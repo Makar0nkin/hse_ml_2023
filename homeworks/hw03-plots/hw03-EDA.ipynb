{
 "cells": [
  {
   "cell_type": "markdown",
   "metadata": {
    "id": "O6_OCTFzu8lE"
   },
   "source": [
    "## Домашнее задание 3 (10 баллов)"
   ]
  },
  {
   "cell_type": "markdown",
   "metadata": {
    "id": "rIc6VNYLu8lK"
   },
   "source": [
    "### О задании"
   ]
  },
  {
   "cell_type": "markdown",
   "metadata": {
    "id": "xRsXxtgNu8lM"
   },
   "source": [
    "В этом домашнем задании вы получите опыт подготовки данных и EDA (Exploratory Data Analysis), приблизившись к реальной работе с данными с помощью уже знакомых вам инструментов: numpy, pandas, matplotlib и seaborn."
   ]
  },
  {
   "cell_type": "markdown",
   "metadata": {
    "id": "01c_ZXgNu8ld"
   },
   "source": [
    "Вы будет работать с задачей кредитного скоринга (оценка надёжности клиента). Предоставляются данные о 1000 клиентов, про которых известно около 20 признаков и положительная или отрицательная оценка в качестве кредитуемого. Эти данные нужно будет подготовить, исследовать (в том числе с помощью средств визуализации) и даже попробовать предложить какую-нибудь формулу для условной оценки надёжности клиентов исходя из предоставленных данных. Описание данных:\n",
    "https://www.rdocumentation.org/packages/evtree/versions/1.0-8/topics/GermanCredit\n",
    "\n",
    "Каждый построенный график необходимо красиво оформить - для этого требуется как минимум указать его название, а также отметить, что изображено по каждой из осей.\n",
    "Также по каждому графику ожидается небольшой комментарий с выводами.\n",
    "\n",
    "*Функции, которые могут пригодиться при оформлении графиков: `.show()`, `.title()`, `.xlabel()`, `.ylabel()`*"
   ]
  },
  {
   "cell_type": "code",
   "execution_count": 1,
   "metadata": {
    "id": "kbKMD992u8ld"
   },
   "outputs": [],
   "source": [
    "import pandas as pd"
   ]
  },
  {
   "cell_type": "markdown",
   "metadata": {
    "id": "PoKE3PySu8ld"
   },
   "source": [
    "### Задание 1 (0.0 балла)"
   ]
  },
  {
   "cell_type": "markdown",
   "metadata": {
    "id": "sMh8vvlNu8ld"
   },
   "source": [
    "Прочитайте средствами pandas файл с данными по ссылке https://raw.githubusercontent.com/hse-ds/iad-intro-ds/master/2022/homeworks/hw03-EDA/german_credit.csv. Выведите базовое представление таблицы (первые 5 и последние 5 строк, размер)."
   ]
  },
  {
   "cell_type": "code",
   "execution_count": 2,
   "metadata": {
    "id": "cRtVjoMlu8le"
   },
   "outputs": [
    {
     "data": {
      "text/plain": [
       "(1000, 21)"
      ]
     },
     "execution_count": 2,
     "metadata": {},
     "output_type": "execute_result"
    }
   ],
   "source": [
    "data = pd.read_csv('https://raw.githubusercontent.com/hse-ds/iad-intro-ds/master/2022/homeworks/hw03-EDA/german_credit.csv')\n",
    "data.shape"
   ]
  },
  {
   "cell_type": "code",
   "execution_count": 3,
   "metadata": {},
   "outputs": [
    {
     "data": {
      "text/html": [
       "<div>\n",
       "<style scoped>\n",
       "    .dataframe tbody tr th:only-of-type {\n",
       "        vertical-align: middle;\n",
       "    }\n",
       "\n",
       "    .dataframe tbody tr th {\n",
       "        vertical-align: top;\n",
       "    }\n",
       "\n",
       "    .dataframe thead th {\n",
       "        text-align: right;\n",
       "    }\n",
       "</style>\n",
       "<table border=\"1\" class=\"dataframe\">\n",
       "  <thead>\n",
       "    <tr style=\"text-align: right;\">\n",
       "      <th></th>\n",
       "      <th>status</th>\n",
       "      <th>duration</th>\n",
       "      <th>credit_history</th>\n",
       "      <th>purpose</th>\n",
       "      <th>amount</th>\n",
       "      <th>savings</th>\n",
       "      <th>employment_duration</th>\n",
       "      <th>installment_rate</th>\n",
       "      <th>personal_status_sex</th>\n",
       "      <th>other_debtors</th>\n",
       "      <th>...</th>\n",
       "      <th>property</th>\n",
       "      <th>age</th>\n",
       "      <th>other_installment_plans</th>\n",
       "      <th>housing</th>\n",
       "      <th>number_credits</th>\n",
       "      <th>job</th>\n",
       "      <th>people_liable</th>\n",
       "      <th>telephone</th>\n",
       "      <th>foreign_worker</th>\n",
       "      <th>credit_risk</th>\n",
       "    </tr>\n",
       "  </thead>\n",
       "  <tbody>\n",
       "    <tr>\n",
       "      <th>0</th>\n",
       "      <td>no checking account</td>\n",
       "      <td>18</td>\n",
       "      <td>all credits at this bank paid back duly</td>\n",
       "      <td>car (used)</td>\n",
       "      <td>1049</td>\n",
       "      <td>unknown/no savings account</td>\n",
       "      <td>&lt; 1 yr</td>\n",
       "      <td>&lt; 20</td>\n",
       "      <td>female : non-single or male : single</td>\n",
       "      <td>none</td>\n",
       "      <td>...</td>\n",
       "      <td>car or other</td>\n",
       "      <td>21</td>\n",
       "      <td>none</td>\n",
       "      <td>for free</td>\n",
       "      <td>1</td>\n",
       "      <td>skilled employee/official</td>\n",
       "      <td>0 to 2</td>\n",
       "      <td>no</td>\n",
       "      <td>no</td>\n",
       "      <td>good</td>\n",
       "    </tr>\n",
       "    <tr>\n",
       "      <th>1</th>\n",
       "      <td>no checking account</td>\n",
       "      <td>9</td>\n",
       "      <td>all credits at this bank paid back duly</td>\n",
       "      <td>others</td>\n",
       "      <td>2799</td>\n",
       "      <td>unknown/no savings account</td>\n",
       "      <td>1 &lt;= ... &lt; 4 yrs</td>\n",
       "      <td>25 &lt;= ... &lt; 35</td>\n",
       "      <td>male : married/widowed</td>\n",
       "      <td>none</td>\n",
       "      <td>...</td>\n",
       "      <td>unknown / no property</td>\n",
       "      <td>36</td>\n",
       "      <td>none</td>\n",
       "      <td>for free</td>\n",
       "      <td>2-3</td>\n",
       "      <td>skilled employee/official</td>\n",
       "      <td>3 or more</td>\n",
       "      <td>no</td>\n",
       "      <td>no</td>\n",
       "      <td>good</td>\n",
       "    </tr>\n",
       "    <tr>\n",
       "      <th>2</th>\n",
       "      <td>... &lt; 0 DM</td>\n",
       "      <td>12</td>\n",
       "      <td>no credits taken/all credits paid back duly</td>\n",
       "      <td>retraining</td>\n",
       "      <td>841</td>\n",
       "      <td>... &lt;  100 DM</td>\n",
       "      <td>4 &lt;= ... &lt; 7 yrs</td>\n",
       "      <td>25 &lt;= ... &lt; 35</td>\n",
       "      <td>female : non-single or male : single</td>\n",
       "      <td>none</td>\n",
       "      <td>...</td>\n",
       "      <td>unknown / no property</td>\n",
       "      <td>23</td>\n",
       "      <td>none</td>\n",
       "      <td>for free</td>\n",
       "      <td>1</td>\n",
       "      <td>unskilled - resident</td>\n",
       "      <td>0 to 2</td>\n",
       "      <td>no</td>\n",
       "      <td>no</td>\n",
       "      <td>good</td>\n",
       "    </tr>\n",
       "    <tr>\n",
       "      <th>3</th>\n",
       "      <td>no checking account</td>\n",
       "      <td>12</td>\n",
       "      <td>all credits at this bank paid back duly</td>\n",
       "      <td>others</td>\n",
       "      <td>2122</td>\n",
       "      <td>unknown/no savings account</td>\n",
       "      <td>1 &lt;= ... &lt; 4 yrs</td>\n",
       "      <td>20 &lt;= ... &lt; 25</td>\n",
       "      <td>male : married/widowed</td>\n",
       "      <td>none</td>\n",
       "      <td>...</td>\n",
       "      <td>unknown / no property</td>\n",
       "      <td>39</td>\n",
       "      <td>none</td>\n",
       "      <td>for free</td>\n",
       "      <td>2-3</td>\n",
       "      <td>unskilled - resident</td>\n",
       "      <td>3 or more</td>\n",
       "      <td>no</td>\n",
       "      <td>yes</td>\n",
       "      <td>good</td>\n",
       "    </tr>\n",
       "    <tr>\n",
       "      <th>4</th>\n",
       "      <td>no checking account</td>\n",
       "      <td>12</td>\n",
       "      <td>all credits at this bank paid back duly</td>\n",
       "      <td>others</td>\n",
       "      <td>2171</td>\n",
       "      <td>unknown/no savings account</td>\n",
       "      <td>1 &lt;= ... &lt; 4 yrs</td>\n",
       "      <td>&lt; 20</td>\n",
       "      <td>male : married/widowed</td>\n",
       "      <td>none</td>\n",
       "      <td>...</td>\n",
       "      <td>car or other</td>\n",
       "      <td>38</td>\n",
       "      <td>bank</td>\n",
       "      <td>rent</td>\n",
       "      <td>2-3</td>\n",
       "      <td>unskilled - resident</td>\n",
       "      <td>0 to 2</td>\n",
       "      <td>no</td>\n",
       "      <td>yes</td>\n",
       "      <td>good</td>\n",
       "    </tr>\n",
       "  </tbody>\n",
       "</table>\n",
       "<p>5 rows × 21 columns</p>\n",
       "</div>"
      ],
      "text/plain": [
       "                status  duration                               credit_history  \\\n",
       "0  no checking account        18      all credits at this bank paid back duly   \n",
       "1  no checking account         9      all credits at this bank paid back duly   \n",
       "2           ... < 0 DM        12  no credits taken/all credits paid back duly   \n",
       "3  no checking account        12      all credits at this bank paid back duly   \n",
       "4  no checking account        12      all credits at this bank paid back duly   \n",
       "\n",
       "      purpose  amount                     savings employment_duration  \\\n",
       "0  car (used)    1049  unknown/no savings account              < 1 yr   \n",
       "1      others    2799  unknown/no savings account    1 <= ... < 4 yrs   \n",
       "2  retraining     841               ... <  100 DM    4 <= ... < 7 yrs   \n",
       "3      others    2122  unknown/no savings account    1 <= ... < 4 yrs   \n",
       "4      others    2171  unknown/no savings account    1 <= ... < 4 yrs   \n",
       "\n",
       "  installment_rate                   personal_status_sex other_debtors  ...  \\\n",
       "0             < 20  female : non-single or male : single          none  ...   \n",
       "1   25 <= ... < 35                male : married/widowed          none  ...   \n",
       "2   25 <= ... < 35  female : non-single or male : single          none  ...   \n",
       "3   20 <= ... < 25                male : married/widowed          none  ...   \n",
       "4             < 20                male : married/widowed          none  ...   \n",
       "\n",
       "                property age  other_installment_plans   housing  \\\n",
       "0           car or other  21                     none  for free   \n",
       "1  unknown / no property  36                     none  for free   \n",
       "2  unknown / no property  23                     none  for free   \n",
       "3  unknown / no property  39                     none  for free   \n",
       "4           car or other  38                     bank      rent   \n",
       "\n",
       "  number_credits                        job people_liable telephone  \\\n",
       "0              1  skilled employee/official        0 to 2        no   \n",
       "1            2-3  skilled employee/official     3 or more        no   \n",
       "2              1       unskilled - resident        0 to 2        no   \n",
       "3            2-3       unskilled - resident     3 or more        no   \n",
       "4            2-3       unskilled - resident        0 to 2        no   \n",
       "\n",
       "  foreign_worker credit_risk  \n",
       "0             no        good  \n",
       "1             no        good  \n",
       "2             no        good  \n",
       "3            yes        good  \n",
       "4            yes        good  \n",
       "\n",
       "[5 rows x 21 columns]"
      ]
     },
     "execution_count": 3,
     "metadata": {},
     "output_type": "execute_result"
    }
   ],
   "source": [
    "data.head(5)"
   ]
  },
  {
   "cell_type": "code",
   "execution_count": 4,
   "metadata": {},
   "outputs": [
    {
     "data": {
      "text/html": [
       "<div>\n",
       "<style scoped>\n",
       "    .dataframe tbody tr th:only-of-type {\n",
       "        vertical-align: middle;\n",
       "    }\n",
       "\n",
       "    .dataframe tbody tr th {\n",
       "        vertical-align: top;\n",
       "    }\n",
       "\n",
       "    .dataframe thead th {\n",
       "        text-align: right;\n",
       "    }\n",
       "</style>\n",
       "<table border=\"1\" class=\"dataframe\">\n",
       "  <thead>\n",
       "    <tr style=\"text-align: right;\">\n",
       "      <th></th>\n",
       "      <th>status</th>\n",
       "      <th>duration</th>\n",
       "      <th>credit_history</th>\n",
       "      <th>purpose</th>\n",
       "      <th>amount</th>\n",
       "      <th>savings</th>\n",
       "      <th>employment_duration</th>\n",
       "      <th>installment_rate</th>\n",
       "      <th>personal_status_sex</th>\n",
       "      <th>other_debtors</th>\n",
       "      <th>...</th>\n",
       "      <th>property</th>\n",
       "      <th>age</th>\n",
       "      <th>other_installment_plans</th>\n",
       "      <th>housing</th>\n",
       "      <th>number_credits</th>\n",
       "      <th>job</th>\n",
       "      <th>people_liable</th>\n",
       "      <th>telephone</th>\n",
       "      <th>foreign_worker</th>\n",
       "      <th>credit_risk</th>\n",
       "    </tr>\n",
       "  </thead>\n",
       "  <tbody>\n",
       "    <tr>\n",
       "      <th>995</th>\n",
       "      <td>no checking account</td>\n",
       "      <td>24</td>\n",
       "      <td>no credits taken/all credits paid back duly</td>\n",
       "      <td>furniture/equipment</td>\n",
       "      <td>1987</td>\n",
       "      <td>unknown/no savings account</td>\n",
       "      <td>1 &lt;= ... &lt; 4 yrs</td>\n",
       "      <td>25 &lt;= ... &lt; 35</td>\n",
       "      <td>male : married/widowed</td>\n",
       "      <td>none</td>\n",
       "      <td>...</td>\n",
       "      <td>unknown / no property</td>\n",
       "      <td>21</td>\n",
       "      <td>none</td>\n",
       "      <td>for free</td>\n",
       "      <td>1</td>\n",
       "      <td>unskilled - resident</td>\n",
       "      <td>3 or more</td>\n",
       "      <td>no</td>\n",
       "      <td>no</td>\n",
       "      <td>bad</td>\n",
       "    </tr>\n",
       "    <tr>\n",
       "      <th>996</th>\n",
       "      <td>no checking account</td>\n",
       "      <td>24</td>\n",
       "      <td>no credits taken/all credits paid back duly</td>\n",
       "      <td>others</td>\n",
       "      <td>2303</td>\n",
       "      <td>unknown/no savings account</td>\n",
       "      <td>&gt;= 7 yrs</td>\n",
       "      <td>&lt; 20</td>\n",
       "      <td>male : married/widowed</td>\n",
       "      <td>co-applicant</td>\n",
       "      <td>...</td>\n",
       "      <td>unknown / no property</td>\n",
       "      <td>45</td>\n",
       "      <td>none</td>\n",
       "      <td>rent</td>\n",
       "      <td>1</td>\n",
       "      <td>skilled employee/official</td>\n",
       "      <td>0 to 2</td>\n",
       "      <td>no</td>\n",
       "      <td>no</td>\n",
       "      <td>bad</td>\n",
       "    </tr>\n",
       "    <tr>\n",
       "      <th>997</th>\n",
       "      <td>... &gt;= 200 DM / salary for at least 1 year</td>\n",
       "      <td>21</td>\n",
       "      <td>all credits at this bank paid back duly</td>\n",
       "      <td>others</td>\n",
       "      <td>12680</td>\n",
       "      <td>... &gt;= 1000 DM</td>\n",
       "      <td>&gt;= 7 yrs</td>\n",
       "      <td>&lt; 20</td>\n",
       "      <td>male : married/widowed</td>\n",
       "      <td>none</td>\n",
       "      <td>...</td>\n",
       "      <td>real estate</td>\n",
       "      <td>30</td>\n",
       "      <td>none</td>\n",
       "      <td>own</td>\n",
       "      <td>1</td>\n",
       "      <td>manager/self-empl./highly qualif. employee</td>\n",
       "      <td>0 to 2</td>\n",
       "      <td>yes (under customer name)</td>\n",
       "      <td>no</td>\n",
       "      <td>bad</td>\n",
       "    </tr>\n",
       "    <tr>\n",
       "      <th>998</th>\n",
       "      <td>... &lt; 0 DM</td>\n",
       "      <td>12</td>\n",
       "      <td>no credits taken/all credits paid back duly</td>\n",
       "      <td>furniture/equipment</td>\n",
       "      <td>6468</td>\n",
       "      <td>... &gt;= 1000 DM</td>\n",
       "      <td>unemployed</td>\n",
       "      <td>25 &lt;= ... &lt; 35</td>\n",
       "      <td>male : married/widowed</td>\n",
       "      <td>none</td>\n",
       "      <td>...</td>\n",
       "      <td>real estate</td>\n",
       "      <td>52</td>\n",
       "      <td>none</td>\n",
       "      <td>rent</td>\n",
       "      <td>1</td>\n",
       "      <td>manager/self-empl./highly qualif. employee</td>\n",
       "      <td>0 to 2</td>\n",
       "      <td>yes (under customer name)</td>\n",
       "      <td>no</td>\n",
       "      <td>bad</td>\n",
       "    </tr>\n",
       "    <tr>\n",
       "      <th>999</th>\n",
       "      <td>no checking account</td>\n",
       "      <td>30</td>\n",
       "      <td>no credits taken/all credits paid back duly</td>\n",
       "      <td>car (used)</td>\n",
       "      <td>6350</td>\n",
       "      <td>... &gt;= 1000 DM</td>\n",
       "      <td>&gt;= 7 yrs</td>\n",
       "      <td>&lt; 20</td>\n",
       "      <td>male : married/widowed</td>\n",
       "      <td>none</td>\n",
       "      <td>...</td>\n",
       "      <td>car or other</td>\n",
       "      <td>31</td>\n",
       "      <td>none</td>\n",
       "      <td>rent</td>\n",
       "      <td>1</td>\n",
       "      <td>skilled employee/official</td>\n",
       "      <td>0 to 2</td>\n",
       "      <td>no</td>\n",
       "      <td>no</td>\n",
       "      <td>bad</td>\n",
       "    </tr>\n",
       "  </tbody>\n",
       "</table>\n",
       "<p>5 rows × 21 columns</p>\n",
       "</div>"
      ],
      "text/plain": [
       "                                         status  duration  \\\n",
       "995                         no checking account        24   \n",
       "996                         no checking account        24   \n",
       "997  ... >= 200 DM / salary for at least 1 year        21   \n",
       "998                                  ... < 0 DM        12   \n",
       "999                         no checking account        30   \n",
       "\n",
       "                                  credit_history              purpose  amount  \\\n",
       "995  no credits taken/all credits paid back duly  furniture/equipment    1987   \n",
       "996  no credits taken/all credits paid back duly               others    2303   \n",
       "997      all credits at this bank paid back duly               others   12680   \n",
       "998  no credits taken/all credits paid back duly  furniture/equipment    6468   \n",
       "999  no credits taken/all credits paid back duly           car (used)    6350   \n",
       "\n",
       "                        savings employment_duration installment_rate  \\\n",
       "995  unknown/no savings account    1 <= ... < 4 yrs   25 <= ... < 35   \n",
       "996  unknown/no savings account            >= 7 yrs             < 20   \n",
       "997              ... >= 1000 DM            >= 7 yrs             < 20   \n",
       "998              ... >= 1000 DM          unemployed   25 <= ... < 35   \n",
       "999              ... >= 1000 DM            >= 7 yrs             < 20   \n",
       "\n",
       "        personal_status_sex other_debtors  ...               property age  \\\n",
       "995  male : married/widowed          none  ...  unknown / no property  21   \n",
       "996  male : married/widowed  co-applicant  ...  unknown / no property  45   \n",
       "997  male : married/widowed          none  ...            real estate  30   \n",
       "998  male : married/widowed          none  ...            real estate  52   \n",
       "999  male : married/widowed          none  ...           car or other  31   \n",
       "\n",
       "     other_installment_plans   housing number_credits  \\\n",
       "995                     none  for free              1   \n",
       "996                     none      rent              1   \n",
       "997                     none       own              1   \n",
       "998                     none      rent              1   \n",
       "999                     none      rent              1   \n",
       "\n",
       "                                            job people_liable  \\\n",
       "995                        unskilled - resident     3 or more   \n",
       "996                   skilled employee/official        0 to 2   \n",
       "997  manager/self-empl./highly qualif. employee        0 to 2   \n",
       "998  manager/self-empl./highly qualif. employee        0 to 2   \n",
       "999                   skilled employee/official        0 to 2   \n",
       "\n",
       "                     telephone foreign_worker credit_risk  \n",
       "995                         no             no         bad  \n",
       "996                         no             no         bad  \n",
       "997  yes (under customer name)             no         bad  \n",
       "998  yes (under customer name)             no         bad  \n",
       "999                         no             no         bad  \n",
       "\n",
       "[5 rows x 21 columns]"
      ]
     },
     "execution_count": 4,
     "metadata": {},
     "output_type": "execute_result"
    }
   ],
   "source": [
    "data.tail(5)"
   ]
  },
  {
   "cell_type": "markdown",
   "metadata": {
    "id": "JBbxRdOQu8le"
   },
   "source": [
    "### Задание 2 (0.5 балла)"
   ]
  },
  {
   "cell_type": "markdown",
   "metadata": {
    "id": "hIPt1r6ju8le"
   },
   "source": [
    "Определите, есть ли пропуски в данных. Разделите признаки на количественные, бинарные, порядковые и категориальные."
   ]
  },
  {
   "cell_type": "code",
   "execution_count": 5,
   "metadata": {
    "id": "jD04ZLhdM6DT"
   },
   "outputs": [
    {
     "data": {
      "text/plain": [
       "status                     0\n",
       "duration                   0\n",
       "credit_history             0\n",
       "purpose                    0\n",
       "amount                     0\n",
       "savings                    0\n",
       "employment_duration        0\n",
       "installment_rate           0\n",
       "personal_status_sex        0\n",
       "other_debtors              0\n",
       "present_residence          0\n",
       "property                   0\n",
       "age                        0\n",
       "other_installment_plans    0\n",
       "housing                    0\n",
       "number_credits             0\n",
       "job                        0\n",
       "people_liable              0\n",
       "telephone                  0\n",
       "foreign_worker             0\n",
       "credit_risk                0\n",
       "dtype: int64"
      ]
     },
     "execution_count": 5,
     "metadata": {},
     "output_type": "execute_result"
    }
   ],
   "source": [
    "data.isnull().sum()"
   ]
  },
  {
   "cell_type": "code",
   "execution_count": 6,
   "metadata": {},
   "outputs": [
    {
     "data": {
      "text/html": [
       "<div>\n",
       "<style scoped>\n",
       "    .dataframe tbody tr th:only-of-type {\n",
       "        vertical-align: middle;\n",
       "    }\n",
       "\n",
       "    .dataframe tbody tr th {\n",
       "        vertical-align: top;\n",
       "    }\n",
       "\n",
       "    .dataframe thead th {\n",
       "        text-align: right;\n",
       "    }\n",
       "</style>\n",
       "<table border=\"1\" class=\"dataframe\">\n",
       "  <thead>\n",
       "    <tr style=\"text-align: right;\">\n",
       "      <th></th>\n",
       "      <th>duration</th>\n",
       "      <th>amount</th>\n",
       "      <th>age</th>\n",
       "      <th>status_... &lt; 0 DM</th>\n",
       "      <th>status_... &gt;= 200 DM / salary for at least 1 year</th>\n",
       "      <th>status_0&lt;= ... &lt; 200 DM</th>\n",
       "      <th>status_no checking account</th>\n",
       "      <th>credit_history_all credits at this bank paid back duly</th>\n",
       "      <th>credit_history_critical account/other credits elsewhere</th>\n",
       "      <th>credit_history_delay in paying off in the past</th>\n",
       "      <th>...</th>\n",
       "      <th>job_unemployed/unskilled - non-resident</th>\n",
       "      <th>job_unskilled - resident</th>\n",
       "      <th>telephone_yes (under customer name)</th>\n",
       "      <th>foreign_worker_yes</th>\n",
       "      <th>credit_risk_good</th>\n",
       "      <th>employment_duration_mapped</th>\n",
       "      <th>people_liable_mapped</th>\n",
       "      <th>installment_rate_mapped</th>\n",
       "      <th>present_residence_mapped</th>\n",
       "      <th>number_credits_mapped</th>\n",
       "    </tr>\n",
       "  </thead>\n",
       "  <tbody>\n",
       "    <tr>\n",
       "      <th>0</th>\n",
       "      <td>18</td>\n",
       "      <td>1049</td>\n",
       "      <td>21</td>\n",
       "      <td>False</td>\n",
       "      <td>False</td>\n",
       "      <td>False</td>\n",
       "      <td>True</td>\n",
       "      <td>True</td>\n",
       "      <td>False</td>\n",
       "      <td>False</td>\n",
       "      <td>...</td>\n",
       "      <td>False</td>\n",
       "      <td>False</td>\n",
       "      <td>False</td>\n",
       "      <td>False</td>\n",
       "      <td>True</td>\n",
       "      <td>1</td>\n",
       "      <td>1</td>\n",
       "      <td>1</td>\n",
       "      <td>4</td>\n",
       "      <td>1</td>\n",
       "    </tr>\n",
       "    <tr>\n",
       "      <th>1</th>\n",
       "      <td>9</td>\n",
       "      <td>2799</td>\n",
       "      <td>36</td>\n",
       "      <td>False</td>\n",
       "      <td>False</td>\n",
       "      <td>False</td>\n",
       "      <td>True</td>\n",
       "      <td>True</td>\n",
       "      <td>False</td>\n",
       "      <td>False</td>\n",
       "      <td>...</td>\n",
       "      <td>False</td>\n",
       "      <td>False</td>\n",
       "      <td>False</td>\n",
       "      <td>False</td>\n",
       "      <td>True</td>\n",
       "      <td>2</td>\n",
       "      <td>2</td>\n",
       "      <td>2</td>\n",
       "      <td>2</td>\n",
       "      <td>2</td>\n",
       "    </tr>\n",
       "    <tr>\n",
       "      <th>2</th>\n",
       "      <td>12</td>\n",
       "      <td>841</td>\n",
       "      <td>23</td>\n",
       "      <td>True</td>\n",
       "      <td>False</td>\n",
       "      <td>False</td>\n",
       "      <td>False</td>\n",
       "      <td>False</td>\n",
       "      <td>False</td>\n",
       "      <td>False</td>\n",
       "      <td>...</td>\n",
       "      <td>False</td>\n",
       "      <td>True</td>\n",
       "      <td>False</td>\n",
       "      <td>False</td>\n",
       "      <td>True</td>\n",
       "      <td>3</td>\n",
       "      <td>1</td>\n",
       "      <td>2</td>\n",
       "      <td>4</td>\n",
       "      <td>1</td>\n",
       "    </tr>\n",
       "    <tr>\n",
       "      <th>3</th>\n",
       "      <td>12</td>\n",
       "      <td>2122</td>\n",
       "      <td>39</td>\n",
       "      <td>False</td>\n",
       "      <td>False</td>\n",
       "      <td>False</td>\n",
       "      <td>True</td>\n",
       "      <td>True</td>\n",
       "      <td>False</td>\n",
       "      <td>False</td>\n",
       "      <td>...</td>\n",
       "      <td>False</td>\n",
       "      <td>True</td>\n",
       "      <td>False</td>\n",
       "      <td>True</td>\n",
       "      <td>True</td>\n",
       "      <td>2</td>\n",
       "      <td>2</td>\n",
       "      <td>3</td>\n",
       "      <td>2</td>\n",
       "      <td>2</td>\n",
       "    </tr>\n",
       "    <tr>\n",
       "      <th>4</th>\n",
       "      <td>12</td>\n",
       "      <td>2171</td>\n",
       "      <td>38</td>\n",
       "      <td>False</td>\n",
       "      <td>False</td>\n",
       "      <td>False</td>\n",
       "      <td>True</td>\n",
       "      <td>True</td>\n",
       "      <td>False</td>\n",
       "      <td>False</td>\n",
       "      <td>...</td>\n",
       "      <td>False</td>\n",
       "      <td>True</td>\n",
       "      <td>False</td>\n",
       "      <td>True</td>\n",
       "      <td>True</td>\n",
       "      <td>2</td>\n",
       "      <td>1</td>\n",
       "      <td>1</td>\n",
       "      <td>4</td>\n",
       "      <td>2</td>\n",
       "    </tr>\n",
       "    <tr>\n",
       "      <th>...</th>\n",
       "      <td>...</td>\n",
       "      <td>...</td>\n",
       "      <td>...</td>\n",
       "      <td>...</td>\n",
       "      <td>...</td>\n",
       "      <td>...</td>\n",
       "      <td>...</td>\n",
       "      <td>...</td>\n",
       "      <td>...</td>\n",
       "      <td>...</td>\n",
       "      <td>...</td>\n",
       "      <td>...</td>\n",
       "      <td>...</td>\n",
       "      <td>...</td>\n",
       "      <td>...</td>\n",
       "      <td>...</td>\n",
       "      <td>...</td>\n",
       "      <td>...</td>\n",
       "      <td>...</td>\n",
       "      <td>...</td>\n",
       "      <td>...</td>\n",
       "    </tr>\n",
       "    <tr>\n",
       "      <th>995</th>\n",
       "      <td>24</td>\n",
       "      <td>1987</td>\n",
       "      <td>21</td>\n",
       "      <td>False</td>\n",
       "      <td>False</td>\n",
       "      <td>False</td>\n",
       "      <td>True</td>\n",
       "      <td>False</td>\n",
       "      <td>False</td>\n",
       "      <td>False</td>\n",
       "      <td>...</td>\n",
       "      <td>False</td>\n",
       "      <td>True</td>\n",
       "      <td>False</td>\n",
       "      <td>False</td>\n",
       "      <td>False</td>\n",
       "      <td>2</td>\n",
       "      <td>2</td>\n",
       "      <td>2</td>\n",
       "      <td>4</td>\n",
       "      <td>1</td>\n",
       "    </tr>\n",
       "    <tr>\n",
       "      <th>996</th>\n",
       "      <td>24</td>\n",
       "      <td>2303</td>\n",
       "      <td>45</td>\n",
       "      <td>False</td>\n",
       "      <td>False</td>\n",
       "      <td>False</td>\n",
       "      <td>True</td>\n",
       "      <td>False</td>\n",
       "      <td>False</td>\n",
       "      <td>False</td>\n",
       "      <td>...</td>\n",
       "      <td>False</td>\n",
       "      <td>False</td>\n",
       "      <td>False</td>\n",
       "      <td>False</td>\n",
       "      <td>False</td>\n",
       "      <td>5</td>\n",
       "      <td>1</td>\n",
       "      <td>1</td>\n",
       "      <td>1</td>\n",
       "      <td>1</td>\n",
       "    </tr>\n",
       "    <tr>\n",
       "      <th>997</th>\n",
       "      <td>21</td>\n",
       "      <td>12680</td>\n",
       "      <td>30</td>\n",
       "      <td>False</td>\n",
       "      <td>True</td>\n",
       "      <td>False</td>\n",
       "      <td>False</td>\n",
       "      <td>True</td>\n",
       "      <td>False</td>\n",
       "      <td>False</td>\n",
       "      <td>...</td>\n",
       "      <td>False</td>\n",
       "      <td>False</td>\n",
       "      <td>True</td>\n",
       "      <td>False</td>\n",
       "      <td>False</td>\n",
       "      <td>5</td>\n",
       "      <td>1</td>\n",
       "      <td>1</td>\n",
       "      <td>4</td>\n",
       "      <td>1</td>\n",
       "    </tr>\n",
       "    <tr>\n",
       "      <th>998</th>\n",
       "      <td>12</td>\n",
       "      <td>6468</td>\n",
       "      <td>52</td>\n",
       "      <td>True</td>\n",
       "      <td>False</td>\n",
       "      <td>False</td>\n",
       "      <td>False</td>\n",
       "      <td>False</td>\n",
       "      <td>False</td>\n",
       "      <td>False</td>\n",
       "      <td>...</td>\n",
       "      <td>False</td>\n",
       "      <td>False</td>\n",
       "      <td>True</td>\n",
       "      <td>False</td>\n",
       "      <td>False</td>\n",
       "      <td>4</td>\n",
       "      <td>1</td>\n",
       "      <td>2</td>\n",
       "      <td>1</td>\n",
       "      <td>1</td>\n",
       "    </tr>\n",
       "    <tr>\n",
       "      <th>999</th>\n",
       "      <td>30</td>\n",
       "      <td>6350</td>\n",
       "      <td>31</td>\n",
       "      <td>False</td>\n",
       "      <td>False</td>\n",
       "      <td>False</td>\n",
       "      <td>True</td>\n",
       "      <td>False</td>\n",
       "      <td>False</td>\n",
       "      <td>False</td>\n",
       "      <td>...</td>\n",
       "      <td>False</td>\n",
       "      <td>False</td>\n",
       "      <td>False</td>\n",
       "      <td>False</td>\n",
       "      <td>False</td>\n",
       "      <td>5</td>\n",
       "      <td>1</td>\n",
       "      <td>1</td>\n",
       "      <td>4</td>\n",
       "      <td>1</td>\n",
       "    </tr>\n",
       "  </tbody>\n",
       "</table>\n",
       "<p>1000 rows × 56 columns</p>\n",
       "</div>"
      ],
      "text/plain": [
       "     duration  amount  age  status_... < 0 DM  \\\n",
       "0          18    1049   21              False   \n",
       "1           9    2799   36              False   \n",
       "2          12     841   23               True   \n",
       "3          12    2122   39              False   \n",
       "4          12    2171   38              False   \n",
       "..        ...     ...  ...                ...   \n",
       "995        24    1987   21              False   \n",
       "996        24    2303   45              False   \n",
       "997        21   12680   30              False   \n",
       "998        12    6468   52               True   \n",
       "999        30    6350   31              False   \n",
       "\n",
       "     status_... >= 200 DM / salary for at least 1 year  \\\n",
       "0                                                False   \n",
       "1                                                False   \n",
       "2                                                False   \n",
       "3                                                False   \n",
       "4                                                False   \n",
       "..                                                 ...   \n",
       "995                                              False   \n",
       "996                                              False   \n",
       "997                                               True   \n",
       "998                                              False   \n",
       "999                                              False   \n",
       "\n",
       "     status_0<= ... < 200 DM  status_no checking account  \\\n",
       "0                      False                        True   \n",
       "1                      False                        True   \n",
       "2                      False                       False   \n",
       "3                      False                        True   \n",
       "4                      False                        True   \n",
       "..                       ...                         ...   \n",
       "995                    False                        True   \n",
       "996                    False                        True   \n",
       "997                    False                       False   \n",
       "998                    False                       False   \n",
       "999                    False                        True   \n",
       "\n",
       "     credit_history_all credits at this bank paid back duly  \\\n",
       "0                                                 True        \n",
       "1                                                 True        \n",
       "2                                                False        \n",
       "3                                                 True        \n",
       "4                                                 True        \n",
       "..                                                 ...        \n",
       "995                                              False        \n",
       "996                                              False        \n",
       "997                                               True        \n",
       "998                                              False        \n",
       "999                                              False        \n",
       "\n",
       "     credit_history_critical account/other credits elsewhere  \\\n",
       "0                                                False         \n",
       "1                                                False         \n",
       "2                                                False         \n",
       "3                                                False         \n",
       "4                                                False         \n",
       "..                                                 ...         \n",
       "995                                              False         \n",
       "996                                              False         \n",
       "997                                              False         \n",
       "998                                              False         \n",
       "999                                              False         \n",
       "\n",
       "     credit_history_delay in paying off in the past  ...  \\\n",
       "0                                             False  ...   \n",
       "1                                             False  ...   \n",
       "2                                             False  ...   \n",
       "3                                             False  ...   \n",
       "4                                             False  ...   \n",
       "..                                              ...  ...   \n",
       "995                                           False  ...   \n",
       "996                                           False  ...   \n",
       "997                                           False  ...   \n",
       "998                                           False  ...   \n",
       "999                                           False  ...   \n",
       "\n",
       "     job_unemployed/unskilled - non-resident  job_unskilled - resident  \\\n",
       "0                                      False                     False   \n",
       "1                                      False                     False   \n",
       "2                                      False                      True   \n",
       "3                                      False                      True   \n",
       "4                                      False                      True   \n",
       "..                                       ...                       ...   \n",
       "995                                    False                      True   \n",
       "996                                    False                     False   \n",
       "997                                    False                     False   \n",
       "998                                    False                     False   \n",
       "999                                    False                     False   \n",
       "\n",
       "     telephone_yes (under customer name)  foreign_worker_yes  \\\n",
       "0                                  False               False   \n",
       "1                                  False               False   \n",
       "2                                  False               False   \n",
       "3                                  False                True   \n",
       "4                                  False                True   \n",
       "..                                   ...                 ...   \n",
       "995                                False               False   \n",
       "996                                False               False   \n",
       "997                                 True               False   \n",
       "998                                 True               False   \n",
       "999                                False               False   \n",
       "\n",
       "     credit_risk_good  employment_duration_mapped  people_liable_mapped  \\\n",
       "0                True                           1                     1   \n",
       "1                True                           2                     2   \n",
       "2                True                           3                     1   \n",
       "3                True                           2                     2   \n",
       "4                True                           2                     1   \n",
       "..                ...                         ...                   ...   \n",
       "995             False                           2                     2   \n",
       "996             False                           5                     1   \n",
       "997             False                           5                     1   \n",
       "998             False                           4                     1   \n",
       "999             False                           5                     1   \n",
       "\n",
       "     installment_rate_mapped  present_residence_mapped  number_credits_mapped  \n",
       "0                          1                         4                      1  \n",
       "1                          2                         2                      2  \n",
       "2                          2                         4                      1  \n",
       "3                          3                         2                      2  \n",
       "4                          1                         4                      2  \n",
       "..                       ...                       ...                    ...  \n",
       "995                        2                         4                      1  \n",
       "996                        1                         1                      1  \n",
       "997                        1                         4                      1  \n",
       "998                        2                         1                      1  \n",
       "999                        1                         4                      1  \n",
       "\n",
       "[1000 rows x 56 columns]"
      ]
     },
     "execution_count": 6,
     "metadata": {},
     "output_type": "execute_result"
    }
   ],
   "source": [
    "# количественные: duration, amount, age\n",
    "\n",
    "# категориальные: status, credit_history, purpose, savings, personal_status_sex,\n",
    "#                 other_debtors, property, other_installment_plans, housing, job\n",
    "data_encoded = data.copy()\n",
    "data_encoded = pd.get_dummies(data_encoded, columns=['status', 'credit_history', 'purpose', 'savings', 'personal_status_sex', \n",
    "                                     'other_debtors', 'property', 'other_installment_plans', 'housing', 'job'])\n",
    "\n",
    "# бинарные: telephone, foreign_worker, credit_risk\n",
    "data_encoded = pd.get_dummies(data_encoded, columns=['telephone', 'foreign_worker', 'credit_risk'], drop_first=True)\n",
    "\n",
    "# порядковые: employment_duration, people_liable, installment_rate, present_residence, number_credits\n",
    "employment_duration_map = {'< 1 yr': 1, '1 <= ... < 4 yrs': 2, '4 <= ... < 7 yrs': 3, 'unemployed': 4, '>= 7 yrs': 5}\n",
    "data_encoded['employment_duration_mapped'] = data_encoded['employment_duration'].map(employment_duration_map)\n",
    "\n",
    "people_liable_map = {'0 to 2': 1, '3 or more': 2}\n",
    "data_encoded['people_liable_mapped'] = data_encoded['people_liable'].map(people_liable_map)\n",
    "\n",
    "installment_rate_map = {'< 20': 1, '25 <= ... < 35': 2, '20 <= ... < 25': 3, '>= 35': 4}\n",
    "data_encoded['installment_rate_mapped'] = data_encoded['installment_rate'].map(installment_rate_map)\n",
    "\n",
    "present_residence_map = {'< 1 yr': 1, '1 <= ... < 4 yrs': 2, '4 <= ... < 7 yrs': 3, '>= 7 yrs': 4}\n",
    "data_encoded['present_residence_mapped'] = data_encoded['present_residence'].map(present_residence_map)\n",
    "\n",
    "number_credits_map = {'1': 1, '2-3': 2, '4-5': 3, '>= 6': 4}\n",
    "data_encoded['number_credits_mapped'] = data_encoded['number_credits'].map(number_credits_map)\n",
    "\n",
    "data_encoded = data_encoded.drop(columns=['employment_duration', 'people_liable', 'installment_rate', 'present_residence', 'number_credits'])\n",
    "data_encoded"
   ]
  },
  {
   "cell_type": "markdown",
   "metadata": {
    "id": "SqPrAHdKRTIE"
   },
   "source": [
    "### Задание 3 (0.5 балла)"
   ]
  },
  {
   "cell_type": "markdown",
   "metadata": {
    "id": "KlMiEcHBRXhD"
   },
   "source": [
    "Выведите среднюю сумму кредита (колонка amount) в каждой категории (колонка purpose), воспользовавшись методом groupby."
   ]
  },
  {
   "cell_type": "code",
   "execution_count": 7,
   "metadata": {
    "id": "oXE_DvksRbpn"
   },
   "outputs": [
    {
     "data": {
      "text/html": [
       "<div>\n",
       "<style scoped>\n",
       "    .dataframe tbody tr th:only-of-type {\n",
       "        vertical-align: middle;\n",
       "    }\n",
       "\n",
       "    .dataframe tbody tr th {\n",
       "        vertical-align: top;\n",
       "    }\n",
       "\n",
       "    .dataframe thead th {\n",
       "        text-align: right;\n",
       "    }\n",
       "</style>\n",
       "<table border=\"1\" class=\"dataframe\">\n",
       "  <thead>\n",
       "    <tr style=\"text-align: right;\">\n",
       "      <th></th>\n",
       "      <th>amount</th>\n",
       "    </tr>\n",
       "    <tr>\n",
       "      <th>purpose</th>\n",
       "      <th></th>\n",
       "    </tr>\n",
       "  </thead>\n",
       "  <tbody>\n",
       "    <tr>\n",
       "      <th>business</th>\n",
       "      <td>8209.333333</td>\n",
       "    </tr>\n",
       "    <tr>\n",
       "      <th>car (new)</th>\n",
       "      <td>5370.223301</td>\n",
       "    </tr>\n",
       "    <tr>\n",
       "      <th>car (used)</th>\n",
       "      <td>3066.983425</td>\n",
       "    </tr>\n",
       "    <tr>\n",
       "      <th>domestic appliances</th>\n",
       "      <td>2728.090909</td>\n",
       "    </tr>\n",
       "    <tr>\n",
       "      <th>furniture/equipment</th>\n",
       "      <td>2487.685714</td>\n",
       "    </tr>\n",
       "    <tr>\n",
       "      <th>others</th>\n",
       "      <td>3062.948718</td>\n",
       "    </tr>\n",
       "    <tr>\n",
       "      <th>radio/television</th>\n",
       "      <td>1498.000000</td>\n",
       "    </tr>\n",
       "    <tr>\n",
       "      <th>repairs</th>\n",
       "      <td>3180.400000</td>\n",
       "    </tr>\n",
       "    <tr>\n",
       "      <th>retraining</th>\n",
       "      <td>4158.041237</td>\n",
       "    </tr>\n",
       "    <tr>\n",
       "      <th>vacation</th>\n",
       "      <td>1205.888889</td>\n",
       "    </tr>\n",
       "  </tbody>\n",
       "</table>\n",
       "</div>"
      ],
      "text/plain": [
       "                          amount\n",
       "purpose                         \n",
       "business             8209.333333\n",
       "car (new)            5370.223301\n",
       "car (used)           3066.983425\n",
       "domestic appliances  2728.090909\n",
       "furniture/equipment  2487.685714\n",
       "others               3062.948718\n",
       "radio/television     1498.000000\n",
       "repairs              3180.400000\n",
       "retraining           4158.041237\n",
       "vacation             1205.888889"
      ]
     },
     "execution_count": 7,
     "metadata": {},
     "output_type": "execute_result"
    }
   ],
   "source": [
    "data.loc[:, ['purpose', 'amount']].groupby(['purpose']).mean()\n",
    "# data.groupby(['purpose'])['amount'].mean()"
   ]
  },
  {
   "cell_type": "markdown",
   "metadata": {
    "id": "mG3ALQRdu8le"
   },
   "source": [
    "### Задание 4 (0.5 балла)\n"
   ]
  },
  {
   "cell_type": "markdown",
   "metadata": {
    "id": "dlb3bBzTu8lf"
   },
   "source": [
    "Какой процент клиентов моложе 30 лет (колонка age) снимает жилье (колонка housing)? А какой процент клиентов старше 40 лет снимает жилье?"
   ]
  },
  {
   "cell_type": "code",
   "execution_count": 8,
   "metadata": {
    "id": "MbGsJVWQu8lf"
   },
   "outputs": [
    {
     "name": "stdout",
     "output_type": "stream",
     "text": [
      "67%\n"
     ]
    }
   ],
   "source": [
    "lt_30_yo_clients = data.loc[data['age'] < 30, ['housing', 'age']]\n",
    "lt_30_yo_clients_rent = lt_30_yo_clients.loc[lt_30_yo_clients['housing'] == 'rent']\n",
    "print(f'{lt_30_yo_clients_rent.count().iloc[0] / lt_30_yo_clients.count().iloc[0] * 100:.0f}%')"
   ]
  },
  {
   "cell_type": "markdown",
   "metadata": {
    "id": "-JG_63_nu8lf"
   },
   "source": [
    "### Задание 5 (0.5 балла)"
   ]
  },
  {
   "cell_type": "markdown",
   "metadata": {
    "id": "aEC7Jj5eu8lf"
   },
   "source": [
    " У скольких иностранцев (foreign_worker) число кредитов (number_credits) больше 3?"
   ]
  },
  {
   "cell_type": "code",
   "execution_count": 9,
   "metadata": {
    "id": "ScD09Oa4u8lf"
   },
   "outputs": [
    {
     "data": {
      "text/plain": [
       "1"
      ]
     },
     "execution_count": 9,
     "metadata": {},
     "output_type": "execute_result"
    }
   ],
   "source": [
    "foreign_workers = data_encoded[(data_encoded['foreign_worker_yes'] == True) & \n",
    "                               (data_encoded['number_credits_mapped'] >= 3)]['number_credits_mapped']\n",
    "foreign_workers.count()"
   ]
  },
  {
   "cell_type": "markdown",
   "metadata": {
    "id": "KAe_K_upu8lg"
   },
   "source": [
    "### Задание 6 (1 балл)"
   ]
  },
  {
   "cell_type": "code",
   "execution_count": 10,
   "metadata": {
    "id": "Q1pVde3gjPNB"
   },
   "outputs": [],
   "source": [
    "import numpy as np\n",
    "import matplotlib.pyplot as plt\n",
    "%matplotlib inline"
   ]
  },
  {
   "cell_type": "markdown",
   "metadata": {
    "id": "aW45ioAJjWMo"
   },
   "source": [
    "Используя numpy и matplotlib, начнём с тренировки: постройте график функций $sin(x)$ и $cos(x)$ от $-\\pi$ до $\\pi$ из 100 точек c легендой и сеткой. Используйте для линий разные цвета, одна из них пусть будет пунктирной. Результат в этом и следующих заданиях на построение графиков должен получиться примерно как на картинке. Содержание подписей не должно обязательно совпадать, однако осмысленные подписи должны присутствовать на графиках."
   ]
  },
  {
   "cell_type": "code",
   "execution_count": 11,
   "metadata": {
    "colab": {
     "base_uri": "https://localhost:8080/",
     "height": 265
    },
    "id": "8rMlt0nbu8lg",
    "outputId": "02bfcae5-2a4f-4b8b-eb41-51ac7ad41379"
   },
   "outputs": [],
   "source": [
    "# your code here"
   ]
  },
  {
   "attachments": {
    "c011f5a7-c10d-4909-9855-59f46507c356.png": {
     "image/png": "[encoded data removed]"
    }
   },
   "cell_type": "markdown",
   "metadata": {},
   "source": [
    "![c011f5a7-c10d-4909-9855-59f46507c356.png](attachment:c011f5a7-c10d-4909-9855-59f46507c356.png)"
   ]
  },
  {
   "cell_type": "markdown",
   "metadata": {
    "id": "toFoOig2u8lh"
   },
   "source": [
    "### Задание 7 (1 балл)"
   ]
  },
  {
   "cell_type": "markdown",
   "metadata": {
    "id": "9I3yl5dEu8lh"
   },
   "source": [
    "Рассмотрим сравнительное количество положительных и отрицательных кейсов в зависимости от размера текущего счёта. Постройте зеркальные горизонтальные гистограммы."
   ]
  },
  {
   "cell_type": "code",
   "execution_count": 12,
   "metadata": {
    "colab": {
     "base_uri": "https://localhost:8080/",
     "height": 373
    },
    "id": "sqXmg0V3u8li",
    "outputId": "1bb93982-356f-4db5-e6c1-e1d5611d6fd5"
   },
   "outputs": [],
   "source": [
    "# your code here"
   ]
  },
  {
   "attachments": {
    "output.jpg": {
     "image/jpeg": "[encoded data removed]"
    }
   },
   "cell_type": "markdown",
   "metadata": {},
   "source": [
    "![output.jpg](attachment:output.jpg)"
   ]
  },
  {
   "cell_type": "markdown",
   "metadata": {
    "id": "bfJALnuMu8li"
   },
   "source": [
    "### Задание 8  (0.5 балла)"
   ]
  },
  {
   "cell_type": "code",
   "execution_count": 13,
   "metadata": {
    "id": "Yi_RIvTx00EE"
   },
   "outputs": [],
   "source": [
    "import seaborn as sns"
   ]
  },
  {
   "cell_type": "markdown",
   "metadata": {
    "id": "mFbzcUiwu8li"
   },
   "source": [
    "Теперь постройте гистограмму для сравнения количества положительных и отрицательных кейсов в зависимости от размера сберегательного счёта с помощью seaborn. Какой способ вам больше нравится с точки зрения трудоёмкости написания кода? А с точки зрения восприятия результата?"
   ]
  },
  {
   "cell_type": "code",
   "execution_count": 14,
   "metadata": {
    "colab": {
     "base_uri": "https://localhost:8080/",
     "height": 334
    },
    "id": "ZFe21FDJu8li",
    "outputId": "b6b62e36-4dc7-481d-f972-bc5296f4a505"
   },
   "outputs": [],
   "source": [
    "# your code here"
   ]
  },
  {
   "cell_type": "markdown",
   "metadata": {},
   "source": []
  },
  {
   "cell_type": "markdown",
   "metadata": {
    "id": "86JCla6mu8li"
   },
   "source": [
    "### Задание 9  (1 балл)"
   ]
  },
  {
   "cell_type": "markdown",
   "metadata": {
    "id": "KDWT_Zx4u8lj"
   },
   "source": [
    "seaborn легко позволяет добавить ещё больше информации на один график. Для каждого размера сберегательного счёта мы можем оценить не только количество положительных и отрицательных кейсов, но и их распределение по возрасту, например. Постройте подходящую для этого визуализацию."
   ]
  },
  {
   "cell_type": "code",
   "execution_count": null,
   "metadata": {
    "colab": {
     "base_uri": "https://localhost:8080/",
     "height": 442
    },
    "id": "_jyzuliwu8lj",
    "outputId": "686f5314-d24e-46e3-ec51-b3e96ed3e1ec"
   },
   "outputs": [],
   "source": []
  },
  {
   "cell_type": "markdown",
   "metadata": {
    "id": "Q6ZBM9nqu8lj"
   },
   "source": [
    "### Задание 10  (0.5 балла)"
   ]
  },
  {
   "cell_type": "markdown",
   "metadata": {
    "id": "9w1ch-1cu8lj"
   },
   "source": [
    "Заканчивая с гистограммами, посмотрим на распределение положительных и отрицательных кейсов по возрастам, разместив их друг над другом. Добавим распределение всех взятых кредитов."
   ]
  },
  {
   "cell_type": "code",
   "execution_count": 15,
   "metadata": {
    "colab": {
     "base_uri": "https://localhost:8080/",
     "height": 663
    },
    "id": "_hWi9-MVEQf0",
    "outputId": "90b55c97-a3c7-4285-9f81-deaf5471be8b"
   },
   "outputs": [],
   "source": [
    "# your code here"
   ]
  },
  {
   "cell_type": "markdown",
   "metadata": {
    "id": "PVrJUff5u8lj"
   },
   "source": [
    "### Задание 11  (0.5 балла)"
   ]
  },
  {
   "cell_type": "markdown",
   "metadata": {
    "id": "Vh20VqxOu8lk"
   },
   "source": [
    "Не менее полезной иногда может быть диаграмма рассеяния. Постройте такую диаграмму с продолжительностью и размерами кредитов в качестве осей. Обозначьте положительные и отрицательные кейсы разными цветами."
   ]
  },
  {
   "cell_type": "code",
   "execution_count": 16,
   "metadata": {
    "colab": {
     "base_uri": "https://localhost:8080/",
     "height": 497
    },
    "id": "PEAmiINUu8lk",
    "outputId": "4886ccea-b046-4e51-fd17-2a8a47ea24ea"
   },
   "outputs": [],
   "source": [
    "# your code here"
   ]
  },
  {
   "cell_type": "markdown",
   "metadata": {
    "id": "mePIgqPqu8lk"
   },
   "source": [
    "### Задание 12  (1 балл)"
   ]
  },
  {
   "cell_type": "markdown",
   "metadata": {
    "id": "HWD2qUbLu8lk"
   },
   "source": [
    "Продвинемся глубже. Постройте 3D версию диаграммы рассеяния, добавив ось с возрастом."
   ]
  },
  {
   "cell_type": "code",
   "execution_count": 17,
   "metadata": {
    "colab": {
     "base_uri": "https://localhost:8080/",
     "height": 466
    },
    "id": "SU2bmkPIu8lk",
    "outputId": "bccaab35-5fc2-4249-8ae2-309e53dcbd26"
   },
   "outputs": [],
   "source": [
    "# your code here"
   ]
  },
  {
   "cell_type": "markdown",
   "metadata": {
    "id": "8Zxx_kxSYa_l"
   },
   "source": [
    "### Задание 13  (0.5 балла)"
   ]
  },
  {
   "cell_type": "markdown",
   "metadata": {
    "id": "5YBhNGg6Yjuw"
   },
   "source": [
    "Представьте все порядковые и бинарные признаки в виде числовых значений {0, ..., n - 1}, где n это количество значений признака. Избавьтесь от категориальных признаков."
   ]
  },
  {
   "cell_type": "code",
   "execution_count": 18,
   "metadata": {
    "id": "81_7p_bEYjuw"
   },
   "outputs": [],
   "source": [
    "# your code here"
   ]
  },
  {
   "cell_type": "markdown",
   "metadata": {
    "id": "Iz7VTiFpu8lo"
   },
   "source": [
    "### Задание 14  (2 балла)"
   ]
  },
  {
   "cell_type": "markdown",
   "metadata": {
    "id": "Mv52wusiu8lo"
   },
   "source": [
    "По результатам предыдущего задания у вас должна получиться таблица, в которой все признаки так или иначе представлены числовыми значениями. Попробуйте придумать на основе проведённых исследований данных какую-нибудь формулу, связывающую целевую переменную с признаками, не используя готовых инструментов машинного обучения. По желанию вы можете исключить ещё какие-то признаки, или, наоборот, сформировать новые на основе имеющихся. Возможно, вы захотите отмасштабировать большие наборы численных значений некоторых признаков с помощью интервалов. Цель: реализовать функцию, которая будет принимать на вход набор признаков для объекта выборки и возвращать прогноз целевой переменной (0 или 1). Например, вы можете просто сложить все признаки и возращать ноль, если сумма отрицательная, а в противном случае единицу. Но наверняка можно придумать лучше!\n",
    "Данные уже разделены на набор для обучения, который вы можете использовать как угодно, и тестовый, на котором нужно будет проверить вашу точность. Постарайтесь достичь точности хотя бы 0.6."
   ]
  },
  {
   "cell_type": "code",
   "execution_count": 19,
   "metadata": {
    "id": "V8vjz88qu8lo"
   },
   "outputs": [
    {
     "ename": "IndentationError",
     "evalue": "expected an indented block after function definition on line 1 (4074300509.py, line 4)",
     "output_type": "error",
     "traceback": [
      "\u001b[0;36m  Cell \u001b[0;32mIn[19], line 4\u001b[0;36m\u001b[0m\n\u001b[0;31m    from sklearn.model_selection import train_test_split\u001b[0m\n\u001b[0m    ^\u001b[0m\n\u001b[0;31mIndentationError\u001b[0m\u001b[0;31m:\u001b[0m expected an indented block after function definition on line 1\n"
     ]
    }
   ],
   "source": [
    "def predict(Xtest: np.array) -> np.array:\n",
    "    # your code here\n",
    "\n",
    "from sklearn.model_selection import train_test_split\n",
    "from sklearn.metrics import accuracy_score\n",
    "X = data.drop('credit_risk', 1).values\n",
    "y = data['credit_risk'].values\n",
    "X_train, X_test, y_train, y_test = train_test_split(X, y, test_size=0.25, random_state=10)\n",
    "# Используйте X_train и y_train на ваше усмотрение\n",
    "# your code here\n",
    "accuracy_score(y_test, predict(X_test))"
   ]
  }
 ],
 "metadata": {
  "colab": {
   "name": "hw1.ipynb",
   "provenance": []
  },
  "kernelspec": {
   "display_name": "Python 3 (ipykernel)",
   "language": "python",
   "name": "python3"
  },
  "language_info": {
   "codemirror_mode": {
    "name": "ipython",
    "version": 3
   },
   "file_extension": ".py",
   "mimetype": "text/x-python",
   "name": "python",
   "nbconvert_exporter": "python",
   "pygments_lexer": "ipython3",
   "version": "3.11.5"
  }
 },
 "nbformat": 4,
 "nbformat_minor": 1
}
